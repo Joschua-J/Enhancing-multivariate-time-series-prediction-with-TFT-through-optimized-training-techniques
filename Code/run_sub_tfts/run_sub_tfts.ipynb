{
 "cells": [
  {
   "cell_type": "code",
   "execution_count": null,
   "metadata": {},
   "outputs": [],
   "source": [
    "# Imports\n",
    "import subprocess"
   ]
  },
  {
   "cell_type": "code",
   "execution_count": null,
   "metadata": {},
   "outputs": [],
   "source": [
    "# Save start\n",
    "with open('start.txt', 'w') as file:\n",
    "    file.write('run_sub_tfts started')"
   ]
  },
  {
   "cell_type": "code",
   "execution_count": null,
   "metadata": {},
   "outputs": [],
   "source": [
    "# Save start\n",
    "with open('start_base_tft.txt', 'w') as file:\n",
    "    file.write('run_sub_tfts started')\n",
    "\n",
    "# Run program\n",
    "subprocess.run(['python', '../base_tft/base_tft.py'])\n",
    "\n",
    "# Save end\n",
    "with open('end_base_tft.txt', 'w') as file:\n",
    "    file.write('run_sub_tfts ended')"
   ]
  },
  {
   "cell_type": "code",
   "execution_count": null,
   "metadata": {},
   "outputs": [],
   "source": [
    "# Save start\n",
    "with open('start_batch_size_high_tft.txt', 'w') as file:\n",
    "    file.write('run_sub_tfts started')\n",
    "\n",
    "# Run program\n",
    "subprocess.run(['python', '../batch_size_high_tft/batch_size_high_tft.py'])\n",
    "\n",
    "# Save end\n",
    "with open('end_batch_size_high_tft.txt', 'w') as file:\n",
    "    file.write('run_sub_tfts ended')"
   ]
  },
  {
   "cell_type": "code",
   "execution_count": null,
   "metadata": {},
   "outputs": [],
   "source": [
    "# Save start\n",
    "with open('start_batch_size_low_tft.txt', 'w') as file:\n",
    "    file.write('batch_size_low_tft started')\n",
    "\n",
    "# Run program\n",
    "subprocess.run(['python', '../batch_size_low_tft/batch_size_low_tft.py'])\n",
    "\n",
    "# Save end\n",
    "with open('end_batch_size_low_tft.txt', 'w') as file:\n",
    "    file.write('batch_size_low_tft ended')"
   ]
  },
  {
   "cell_type": "code",
   "execution_count": null,
   "metadata": {},
   "outputs": [],
   "source": [
    "# Save start\n",
    "with open('start_drop_out_high_tft.txt', 'w') as file:\n",
    "    file.write('drop_out_high_tft started')\n",
    "\n",
    "# Run program\n",
    "subprocess.run(['python', '../drop_out_high_tft/drop_out_high_tft.py'])\n",
    "\n",
    "# Save end\n",
    "with open('end_drop_out_high_tft.txt', 'w') as file:\n",
    "    file.write('drop_out_high_tft ended')"
   ]
  },
  {
   "cell_type": "code",
   "execution_count": null,
   "metadata": {},
   "outputs": [],
   "source": [
    "# Save start\n",
    "with open('start_drop_out_low_tft.txt', 'w') as file:\n",
    "    file.write('drop_out_low_tft started')\n",
    "\n",
    "# Run program\n",
    "subprocess.run(['python', '../drop_out_low_tft/drop_out_low_tft.py'])\n",
    "\n",
    "# Save end\n",
    "with open('end_drop_out_low_tft.txt', 'w') as file:\n",
    "    file.write('drop_out_low_tft ended')"
   ]
  },
  {
   "cell_type": "code",
   "execution_count": null,
   "metadata": {},
   "outputs": [],
   "source": [
    "# Save start\n",
    "with open('start_gradient_clipping_high_tft.txt', 'w') as file:\n",
    "    file.write('gradient_clipping_high_tft started')\n",
    "\n",
    "# Run program\n",
    "subprocess.run(['python', '../gradient_clipping_high_tft/gradient_clipping_high_tft.py'])\n",
    "\n",
    "# Save end\n",
    "with open('end_gradient_clipping_high_tft.txt', 'w') as file:\n",
    "    file.write('gradient_clipping_high_tft ended')"
   ]
  },
  {
   "cell_type": "code",
   "execution_count": null,
   "metadata": {},
   "outputs": [],
   "source": [
    "# Save start\n",
    "with open('start_gradient_clipping_low_tft.txt', 'w') as file:\n",
    "    file.write('gradient_clipping_low_tft started')\n",
    "\n",
    "# Run program\n",
    "subprocess.run(['python', '../gradient_clipping_low_tft/gradient_clipping_low_tft.py'])\n",
    "\n",
    "# Save end\n",
    "with open('end_gradient_clipping_low_tft.txt', 'w') as file:\n",
    "    file.write('gradient_clipping_low_tft ended')"
   ]
  },
  {
   "cell_type": "code",
   "execution_count": null,
   "metadata": {},
   "outputs": [],
   "source": [
    "# Save start\n",
    "with open('start_learning_rate_high_tft.txt', 'w') as file:\n",
    "    file.write('learning_rate_high_tft started')\n",
    "\n",
    "# Run program\n",
    "subprocess.run(['python', '../learning_rate_high_tft/learning_rate_high_tft.py'])\n",
    "\n",
    "# Save end\n",
    "with open('end_learning_rate_high_tft.txt', 'w') as file:\n",
    "    file.write('learning_rate_high_tft ended')"
   ]
  },
  {
   "cell_type": "code",
   "execution_count": null,
   "metadata": {},
   "outputs": [],
   "source": [
    "# Save start\n",
    "with open('start_learning_rate_low_tft.txt', 'w') as file:\n",
    "    file.write('learning_rate_low_tft started')\n",
    "\n",
    "# Run program\n",
    "subprocess.run(['python', '../learning_rate_low_tft/learning_rate_low_tft.py'])\n",
    "\n",
    "# Save end\n",
    "with open('end_learning_rate_low_tft.txt', 'w') as file:\n",
    "    file.write('learning_rate_low_tft ended')"
   ]
  },
  {
   "cell_type": "code",
   "execution_count": null,
   "metadata": {},
   "outputs": [],
   "source": [
    "# Save end\n",
    "with open('end.txt', 'w') as file:\n",
    "    file.write('run_sub_tfts ended')"
   ]
  }
 ],
 "metadata": {
  "kernelspec": {
   "display_name": "tft",
   "language": "python",
   "name": "python3"
  },
  "language_info": {
   "codemirror_mode": {
    "name": "ipython",
    "version": 3
   },
   "file_extension": ".py",
   "mimetype": "text/x-python",
   "name": "python",
   "nbconvert_exporter": "python",
   "pygments_lexer": "ipython3",
   "version": "3.9.18"
  }
 },
 "nbformat": 4,
 "nbformat_minor": 2
}
